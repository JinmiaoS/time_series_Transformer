{
 "cells": [
  {
   "cell_type": "code",
   "execution_count": 1,
   "metadata": {},
   "outputs": [
    {
     "name": "stderr",
     "output_type": "stream",
     "text": [
      "Using TensorFlow backend.\n"
     ]
    }
   ],
   "source": [
    "#from keras_transformer import get_model\n",
    "import numpy as np\n",
    "import pandas as pd\n",
    "from sklearn.preprocessing import StandardScaler, MinMaxScaler\n",
    "from sklearn.model_selection import train_test_split\n",
    "from keras.utils import to_categorical\n",
    "from keras.optimizers import Adam\n",
    "from TransformerEncoder import TransformerEncoder\n",
    "from TrainablePositionalEmbeddings import TransformerPositionalEmbedding\n",
    "from keras.layers import Input,Dense,Embedding,Lambda,TimeDistributed,LSTM, Reshape, Dropout\n",
    "from keras.models import Model"
   ]
  },
  {
   "cell_type": "markdown",
   "metadata": {},
   "source": [
    "## data"
   ]
  },
  {
   "cell_type": "code",
   "execution_count": 70,
   "metadata": {},
   "outputs": [],
   "source": [
    "sku_id = 30851\n",
    "n_in = 16\n",
    "#data load\n",
    "df = pd.read_csv('data/sku_day_20191023_v2.csv')\n",
    "data_beer = df[df[\"sku_id\"] == sku_id].copy()\n",
    "data_beer['time'] = pd.to_datetime(data_beer['time'], format='%Y-%m')\n",
    "data_beer['week'] = ((data_beer['time'] - pd.datetime(year=2014, month=1, day=6)).dt.days / 7).astype(int)\n",
    "data_beer['monthly'] = data_beer['time'].apply(lambda x: pd.datetime(year=x.year, month=x.month, day=1))\n",
    "data_beer_week = data_beer.groupby(['week'])['y'].sum().to_frame().sort_values(['week']).reset_index()\n",
    "data_beer_week = pd.DataFrame(data_beer_week.y.values).values\n",
    "\n",
    "#data perpare\n",
    "#n_in = n_seq * n_steps\n",
    "n_out = 1\n",
    "df = pd.DataFrame(data_beer_week)\n",
    "cols = list()\n",
    "for i in range(n_in, 0, -1):\n",
    "    cols.append(df.shift(i))\n",
    "for i in range(0, n_out):\n",
    "    cols.append(df.shift(-i))\n",
    "agg = pd.concat(cols, axis=1)\n",
    "agg.dropna(inplace=True)\n",
    "data_supervised = agg.values"
   ]
  },
  {
   "cell_type": "code",
   "execution_count": 71,
   "metadata": {},
   "outputs": [],
   "source": [
    "mu = pd.Series(data_supervised.reshape(-1,)).mean()\n",
    "sigma = pd.Series(data_supervised.reshape(-1,)).std()"
   ]
  },
  {
   "cell_type": "code",
   "execution_count": 74,
   "metadata": {},
   "outputs": [],
   "source": [
    "data = data_supervised"
   ]
  },
  {
   "cell_type": "code",
   "execution_count": 29,
   "metadata": {},
   "outputs": [],
   "source": [
    "data_supervised[data_supervised<mu-sigma]=0\n",
    "data_supervised[(data_supervised>=mu-sigma) & (data_supervised<mu)]=1\n",
    "data_supervised[(data_supervised>=mu) & (data_supervised<mu + sigma)]=2\n",
    "data_supervised[(data_supervised>=mu+sigma) & (data_supervised<mu + 2*sigma)]=3\n",
    "data_supervised[data_supervised>=mu+2*sigma]=4"
   ]
  },
  {
   "cell_type": "code",
   "execution_count": 32,
   "metadata": {},
   "outputs": [],
   "source": [
    "data = data_supervised"
   ]
  },
  {
   "cell_type": "code",
   "execution_count": 75,
   "metadata": {},
   "outputs": [],
   "source": [
    "data_train, data_test = train_test_split(data, test_size=0.05, random_state=42)\n",
    "#data_train, data_test = data"
   ]
  },
  {
   "cell_type": "code",
   "execution_count": null,
   "metadata": {},
   "outputs": [],
   "source": []
  },
  {
   "cell_type": "code",
   "execution_count": 34,
   "metadata": {},
   "outputs": [],
   "source": [
    "x_train = data_train[:,:-1]\n",
    "y_train = to_categorical(data_train[:,-1]) # one-hot\n",
    "x_test = data_test[:,:-1]\n",
    "y_test = to_categorical(data_test[:,-1]) # one-hot"
   ]
  },
  {
   "cell_type": "markdown",
   "metadata": {},
   "source": [
    "## Model"
   ]
  },
  {
   "cell_type": "code",
   "execution_count": 41,
   "metadata": {},
   "outputs": [],
   "source": [
    "#hyper parameter\n",
    "input_seq_len = 16\n",
    "input_dim = 1\n",
    "hidden_dim = 30\n",
    "positional_ff_dim = 32"
   ]
  },
  {
   "cell_type": "code",
   "execution_count": 49,
   "metadata": {},
   "outputs": [],
   "source": [
    "def build_model():\n",
    "    '''\n",
    "    embedding: uniform initialization\n",
    "    encoder + softmax\n",
    "    '''\n",
    "    encoder_inputs = Input((16,),name='Encoder_input')\n",
    "    next_step_input = Embedding(5,hidden_dim,input_length=16)(encoder_inputs)\n",
    "    next_step_input = Dropout(0.2)(next_step_input)\n",
    "\n",
    "\n",
    "    positional_embedding_layer    = TransformerPositionalEmbedding(name='Positional_embedding')\n",
    "    next_step_input               = positional_embedding_layer(next_step_input)\n",
    "\n",
    "    next_step_input,attention =TransformerEncoder(hidden_dim,\n",
    "                                                             1,\n",
    "                                                             hidden_dim,\n",
    "                                                             hidden_dim,\n",
    "                                                             positional_ff_dim,\n",
    "                                                             dropout_rate= 0.1,\n",
    "                                                             name= 'Transformer')(next_step_input)\n",
    "    '''\n",
    "    next_step_input,attention =TransformerEncoder(hidden_dim,\n",
    "                                                         1,\n",
    "                                                         hidden_dim,\n",
    "                                                         hidden_dim,\n",
    "                                                         positional_ff_dim,\n",
    "                                                         dropout_rate= 0.1,\n",
    "                                                         name= 'Transformer1')(next_step_input)\n",
    "    \n",
    "    '''\n",
    "    next_step_input = Lambda(lambda x: x[:,0])(next_step_input)\n",
    "    next_step_input = Dropout(0.5)(next_step_input)\n",
    "    outputs = Dense(5, activation='softmax')(next_step_input)\n",
    "    model = Model(encoder_inputs, outputs)\n",
    "    model.summary()\n",
    "    \n",
    "    return model"
   ]
  },
  {
   "cell_type": "code",
   "execution_count": 50,
   "metadata": {},
   "outputs": [
    {
     "name": "stdout",
     "output_type": "stream",
     "text": [
      "Model: \"model_3\"\n",
      "__________________________________________________________________________________________________\n",
      "Layer (type)                    Output Shape         Param #     Connected to                     \n",
      "==================================================================================================\n",
      "Encoder_input (InputLayer)      (None, 16)           0                                            \n",
      "__________________________________________________________________________________________________\n",
      "embedding_3 (Embedding)         (None, 16, 30)       150         Encoder_input[0][0]              \n",
      "__________________________________________________________________________________________________\n",
      "dropout_9 (Dropout)             (None, 16, 30)       0           embedding_3[0][0]                \n",
      "__________________________________________________________________________________________________\n",
      "Positional_embedding (Transform (None, 16, 30)       480         dropout_9[0][0]                  \n",
      "__________________________________________________________________________________________________\n",
      "Transformer_QueryLayer (TimeDis (None, 16, 30)       900         Positional_embedding[0][0]       \n",
      "__________________________________________________________________________________________________\n",
      "Transformer_KeyLayer (TimeDistr (None, 16, 30)       900         Positional_embedding[0][0]       \n",
      "__________________________________________________________________________________________________\n",
      "reshape_7 (Reshape)             (None, 16, 1, 30)    0           Transformer_QueryLayer[0][0]     \n",
      "__________________________________________________________________________________________________\n",
      "reshape_8 (Reshape)             (None, 16, 1, 30)    0           Transformer_KeyLayer[0][0]       \n",
      "__________________________________________________________________________________________________\n",
      "permute_9 (Permute)             (None, 1, 16, 30)    0           reshape_7[0][0]                  \n",
      "__________________________________________________________________________________________________\n",
      "permute_10 (Permute)            (None, 1, 30, 16)    0           reshape_8[0][0]                  \n",
      "__________________________________________________________________________________________________\n",
      "Transformer_ValueLayer (TimeDis (None, 16, 30)       900         Positional_embedding[0][0]       \n",
      "__________________________________________________________________________________________________\n",
      "lambda_21 (Lambda)              (None, 16, 30)       0           permute_9[0][0]                  \n",
      "__________________________________________________________________________________________________\n",
      "lambda_22 (Lambda)              (None, 30, 16)       0           permute_10[0][0]                 \n",
      "__________________________________________________________________________________________________\n",
      "reshape_9 (Reshape)             (None, 16, 1, 30)    0           Transformer_ValueLayer[0][0]     \n",
      "__________________________________________________________________________________________________\n",
      "lambda_24 (Lambda)              (None, 16, 16)       0           lambda_21[0][0]                  \n",
      "                                                                 lambda_22[0][0]                  \n",
      "__________________________________________________________________________________________________\n",
      "permute_11 (Permute)            (None, 1, 16, 30)    0           reshape_9[0][0]                  \n",
      "__________________________________________________________________________________________________\n",
      "activation_3 (Activation)       (None, 16, 16)       0           lambda_24[0][0]                  \n",
      "__________________________________________________________________________________________________\n",
      "lambda_23 (Lambda)              (None, 16, 30)       0           permute_11[0][0]                 \n",
      "__________________________________________________________________________________________________\n",
      "lambda_25 (Lambda)              (None, 16, 30)       0           activation_3[0][0]               \n",
      "                                                                 lambda_23[0][0]                  \n",
      "__________________________________________________________________________________________________\n",
      "lambda_27 (Lambda)              (None, 16, 30)       0           lambda_25[0][0]                  \n",
      "__________________________________________________________________________________________________\n",
      "lambda_28 (Lambda)              (None, 1, 16, 30)    0           lambda_27[0][0]                  \n",
      "__________________________________________________________________________________________________\n",
      "permute_12 (Permute)            (None, 16, 1, 30)    0           lambda_28[0][0]                  \n",
      "__________________________________________________________________________________________________\n",
      "lambda_29 (Lambda)              (None, 16, 30)       0           permute_12[0][0]                 \n",
      "__________________________________________________________________________________________________\n",
      "dropout_10 (Dropout)            (None, 16, 30)       0           lambda_29[0][0]                  \n",
      "__________________________________________________________________________________________________\n",
      "Transformer_AttentionOutputLaye (None, 16, 30)       900         dropout_10[0][0]                 \n",
      "__________________________________________________________________________________________________\n",
      "add_5 (Add)                     (None, 16, 30)       0           Transformer_AttentionOutputLayer[\n",
      "                                                                 Positional_embedding[0][0]       \n",
      "__________________________________________________________________________________________________\n",
      "layer_normalization_3 (LayerNor (None, 16, 30)       32          add_5[0][0]                      \n",
      "                                                                 add_6[0][0]                      \n",
      "__________________________________________________________________________________________________\n",
      "Transformer_PositionWiseFeedFor (None, 16, 32)       992         layer_normalization_3[0][0]      \n",
      "__________________________________________________________________________________________________\n",
      "dropout_11 (Dropout)            (None, 16, 32)       0           Transformer_PositionWiseFeedForwa\n",
      "__________________________________________________________________________________________________\n",
      "Transformer_outffn (TimeDistrib (None, 16, 30)       990         dropout_11[0][0]                 \n",
      "__________________________________________________________________________________________________\n",
      "add_6 (Add)                     (None, 16, 30)       0           Transformer_outffn[0][0]         \n",
      "                                                                 layer_normalization_3[0][0]      \n",
      "__________________________________________________________________________________________________\n",
      "lambda_30 (Lambda)              (None, 30)           0           layer_normalization_3[1][0]      \n",
      "__________________________________________________________________________________________________\n",
      "dropout_12 (Dropout)            (None, 30)           0           lambda_30[0][0]                  \n",
      "__________________________________________________________________________________________________\n",
      "dense_21 (Dense)                (None, 5)            155         dropout_12[0][0]                 \n",
      "==================================================================================================\n",
      "Total params: 6,399\n",
      "Trainable params: 6,399\n",
      "Non-trainable params: 0\n",
      "__________________________________________________________________________________________________\n"
     ]
    }
   ],
   "source": [
    "model = build_model()"
   ]
  },
  {
   "cell_type": "code",
   "execution_count": 51,
   "metadata": {},
   "outputs": [],
   "source": [
    "model.compile(optimizer=Adam(),loss='categorical_crossentropy', metrics=['accuracy'])"
   ]
  },
  {
   "cell_type": "code",
   "execution_count": 53,
   "metadata": {
    "scrolled": true
   },
   "outputs": [
    {
     "name": "stdout",
     "output_type": "stream",
     "text": [
      "Epoch 1/200\n",
      "203/203 [==============================] - 0s 203us/step - loss: 1.0620 - accuracy: 0.6256\n",
      "Epoch 2/200\n",
      "203/203 [==============================] - 0s 122us/step - loss: 1.0517 - accuracy: 0.5862\n",
      "Epoch 3/200\n",
      "203/203 [==============================] - 0s 137us/step - loss: 1.0187 - accuracy: 0.6355\n",
      "Epoch 4/200\n",
      "203/203 [==============================] - 0s 126us/step - loss: 1.0028 - accuracy: 0.6108\n",
      "Epoch 5/200\n",
      "203/203 [==============================] - 0s 132us/step - loss: 1.0360 - accuracy: 0.6059\n",
      "Epoch 6/200\n",
      "203/203 [==============================] - 0s 129us/step - loss: 1.0439 - accuracy: 0.6010\n",
      "Epoch 7/200\n",
      "203/203 [==============================] - 0s 126us/step - loss: 1.0641 - accuracy: 0.5961\n",
      "Epoch 8/200\n",
      "203/203 [==============================] - 0s 124us/step - loss: 0.9658 - accuracy: 0.6502\n",
      "Epoch 9/200\n",
      "203/203 [==============================] - 0s 126us/step - loss: 1.0236 - accuracy: 0.6355\n",
      "Epoch 10/200\n",
      "203/203 [==============================] - 0s 119us/step - loss: 0.9958 - accuracy: 0.6108\n",
      "Epoch 11/200\n",
      "203/203 [==============================] - 0s 130us/step - loss: 1.0255 - accuracy: 0.6256\n",
      "Epoch 12/200\n",
      "203/203 [==============================] - 0s 116us/step - loss: 0.9337 - accuracy: 0.6207\n",
      "Epoch 13/200\n",
      "203/203 [==============================] - 0s 110us/step - loss: 1.0408 - accuracy: 0.6355\n",
      "Epoch 14/200\n",
      "203/203 [==============================] - 0s 114us/step - loss: 0.9746 - accuracy: 0.6650\n",
      "Epoch 15/200\n",
      "203/203 [==============================] - 0s 112us/step - loss: 1.0175 - accuracy: 0.6453\n",
      "Epoch 16/200\n",
      "203/203 [==============================] - 0s 110us/step - loss: 1.0284 - accuracy: 0.5961\n",
      "Epoch 17/200\n",
      "203/203 [==============================] - 0s 113us/step - loss: 1.0121 - accuracy: 0.6404\n",
      "Epoch 18/200\n",
      "203/203 [==============================] - 0s 113us/step - loss: 1.0001 - accuracy: 0.6305\n",
      "Epoch 19/200\n",
      "203/203 [==============================] - 0s 113us/step - loss: 1.0008 - accuracy: 0.6305\n",
      "Epoch 20/200\n",
      "203/203 [==============================] - 0s 111us/step - loss: 0.9927 - accuracy: 0.6010\n",
      "Epoch 21/200\n",
      "203/203 [==============================] - 0s 112us/step - loss: 0.9780 - accuracy: 0.6256\n",
      "Epoch 22/200\n",
      "203/203 [==============================] - 0s 110us/step - loss: 0.9745 - accuracy: 0.6355\n",
      "Epoch 23/200\n",
      "203/203 [==============================] - 0s 110us/step - loss: 0.9862 - accuracy: 0.6404\n",
      "Epoch 24/200\n",
      "203/203 [==============================] - 0s 112us/step - loss: 0.9986 - accuracy: 0.6256\n",
      "Epoch 25/200\n",
      "203/203 [==============================] - 0s 111us/step - loss: 0.9611 - accuracy: 0.6552\n",
      "Epoch 26/200\n",
      "203/203 [==============================] - 0s 111us/step - loss: 0.9660 - accuracy: 0.6305\n",
      "Epoch 27/200\n",
      "203/203 [==============================] - 0s 109us/step - loss: 0.9923 - accuracy: 0.6207\n",
      "Epoch 28/200\n",
      "203/203 [==============================] - 0s 112us/step - loss: 0.9485 - accuracy: 0.6256\n",
      "Epoch 29/200\n",
      "203/203 [==============================] - 0s 112us/step - loss: 0.9321 - accuracy: 0.6355\n",
      "Epoch 30/200\n",
      "203/203 [==============================] - 0s 110us/step - loss: 0.9407 - accuracy: 0.6207\n",
      "Epoch 31/200\n",
      "203/203 [==============================] - 0s 113us/step - loss: 0.9238 - accuracy: 0.6650\n",
      "Epoch 32/200\n",
      "203/203 [==============================] - 0s 111us/step - loss: 0.9155 - accuracy: 0.6601\n",
      "Epoch 33/200\n",
      "203/203 [==============================] - 0s 113us/step - loss: 0.9356 - accuracy: 0.6552\n",
      "Epoch 34/200\n",
      "203/203 [==============================] - 0s 113us/step - loss: 0.9449 - accuracy: 0.6404\n",
      "Epoch 35/200\n",
      "203/203 [==============================] - 0s 119us/step - loss: 0.9208 - accuracy: 0.6404\n",
      "Epoch 36/200\n",
      "203/203 [==============================] - 0s 115us/step - loss: 0.9555 - accuracy: 0.6453\n",
      "Epoch 37/200\n",
      "203/203 [==============================] - 0s 118us/step - loss: 0.9210 - accuracy: 0.6502\n",
      "Epoch 38/200\n",
      "203/203 [==============================] - 0s 117us/step - loss: 0.9405 - accuracy: 0.6502\n",
      "Epoch 39/200\n",
      "203/203 [==============================] - 0s 120us/step - loss: 0.9314 - accuracy: 0.6847\n",
      "Epoch 40/200\n",
      "203/203 [==============================] - 0s 122us/step - loss: 0.9301 - accuracy: 0.6453\n",
      "Epoch 41/200\n",
      "203/203 [==============================] - 0s 124us/step - loss: 0.9539 - accuracy: 0.6749\n",
      "Epoch 42/200\n",
      "203/203 [==============================] - 0s 119us/step - loss: 0.9455 - accuracy: 0.6552\n",
      "Epoch 43/200\n",
      "203/203 [==============================] - 0s 119us/step - loss: 0.9516 - accuracy: 0.6404\n",
      "Epoch 44/200\n",
      "203/203 [==============================] - 0s 118us/step - loss: 0.9327 - accuracy: 0.6355\n",
      "Epoch 45/200\n",
      "203/203 [==============================] - 0s 119us/step - loss: 0.9242 - accuracy: 0.6502\n",
      "Epoch 46/200\n",
      "203/203 [==============================] - 0s 119us/step - loss: 0.9350 - accuracy: 0.6256\n",
      "Epoch 47/200\n",
      "203/203 [==============================] - 0s 119us/step - loss: 0.9187 - accuracy: 0.6601\n",
      "Epoch 48/200\n",
      "203/203 [==============================] - 0s 123us/step - loss: 0.9139 - accuracy: 0.6749\n",
      "Epoch 49/200\n",
      "203/203 [==============================] - 0s 118us/step - loss: 0.9169 - accuracy: 0.6847\n",
      "Epoch 50/200\n",
      "203/203 [==============================] - 0s 114us/step - loss: 0.8848 - accuracy: 0.6798\n",
      "Epoch 51/200\n",
      "203/203 [==============================] - 0s 116us/step - loss: 0.9282 - accuracy: 0.6700\n",
      "Epoch 52/200\n",
      "203/203 [==============================] - 0s 115us/step - loss: 0.8888 - accuracy: 0.6650\n",
      "Epoch 53/200\n",
      "203/203 [==============================] - 0s 117us/step - loss: 0.8719 - accuracy: 0.7143\n",
      "Epoch 54/200\n",
      "203/203 [==============================] - 0s 121us/step - loss: 0.9250 - accuracy: 0.6749\n",
      "Epoch 55/200\n",
      "203/203 [==============================] - 0s 120us/step - loss: 0.9166 - accuracy: 0.6700\n",
      "Epoch 56/200\n",
      "203/203 [==============================] - 0s 116us/step - loss: 0.9160 - accuracy: 0.6798\n",
      "Epoch 57/200\n",
      "203/203 [==============================] - 0s 120us/step - loss: 0.9293 - accuracy: 0.6552\n",
      "Epoch 58/200\n",
      "203/203 [==============================] - 0s 113us/step - loss: 0.9223 - accuracy: 0.6601\n",
      "Epoch 59/200\n",
      "203/203 [==============================] - 0s 113us/step - loss: 0.8963 - accuracy: 0.6946\n",
      "Epoch 60/200\n",
      "203/203 [==============================] - 0s 116us/step - loss: 0.8960 - accuracy: 0.6995\n",
      "Epoch 61/200\n",
      "203/203 [==============================] - 0s 115us/step - loss: 0.8814 - accuracy: 0.6946\n",
      "Epoch 62/200\n",
      "203/203 [==============================] - 0s 117us/step - loss: 0.8631 - accuracy: 0.6552\n",
      "Epoch 63/200\n",
      "203/203 [==============================] - 0s 117us/step - loss: 0.8782 - accuracy: 0.6700\n",
      "Epoch 64/200\n",
      "203/203 [==============================] - 0s 118us/step - loss: 0.9079 - accuracy: 0.6650\n",
      "Epoch 65/200\n",
      "203/203 [==============================] - 0s 118us/step - loss: 0.9172 - accuracy: 0.6502\n",
      "Epoch 66/200\n",
      "203/203 [==============================] - 0s 118us/step - loss: 0.9035 - accuracy: 0.6700\n",
      "Epoch 67/200\n",
      "203/203 [==============================] - 0s 116us/step - loss: 0.8788 - accuracy: 0.6749\n",
      "Epoch 68/200\n",
      "203/203 [==============================] - 0s 121us/step - loss: 0.8760 - accuracy: 0.7143\n",
      "Epoch 69/200\n",
      "203/203 [==============================] - 0s 115us/step - loss: 0.9036 - accuracy: 0.6700\n",
      "Epoch 70/200\n",
      "203/203 [==============================] - 0s 118us/step - loss: 0.8455 - accuracy: 0.6798\n",
      "Epoch 71/200\n",
      "203/203 [==============================] - 0s 116us/step - loss: 0.8779 - accuracy: 0.6798\n",
      "Epoch 72/200\n",
      "203/203 [==============================] - 0s 115us/step - loss: 0.8925 - accuracy: 0.6700\n",
      "Epoch 73/200\n",
      "203/203 [==============================] - 0s 116us/step - loss: 0.9135 - accuracy: 0.6502\n",
      "Epoch 74/200\n",
      "203/203 [==============================] - 0s 117us/step - loss: 0.8843 - accuracy: 0.6897\n",
      "Epoch 75/200\n",
      "203/203 [==============================] - 0s 115us/step - loss: 0.8620 - accuracy: 0.6749\n",
      "Epoch 76/200\n",
      "203/203 [==============================] - 0s 116us/step - loss: 0.8887 - accuracy: 0.6552\n",
      "Epoch 77/200\n",
      "203/203 [==============================] - 0s 117us/step - loss: 0.8788 - accuracy: 0.7094\n",
      "Epoch 78/200\n",
      "203/203 [==============================] - 0s 115us/step - loss: 0.9023 - accuracy: 0.6847\n",
      "Epoch 79/200\n",
      "203/203 [==============================] - 0s 117us/step - loss: 0.8389 - accuracy: 0.6946\n",
      "Epoch 80/200\n",
      "203/203 [==============================] - 0s 116us/step - loss: 0.8446 - accuracy: 0.6847\n",
      "Epoch 81/200\n",
      "203/203 [==============================] - 0s 115us/step - loss: 0.8404 - accuracy: 0.6995\n",
      "Epoch 82/200\n",
      "203/203 [==============================] - 0s 113us/step - loss: 0.8565 - accuracy: 0.6601\n",
      "Epoch 83/200\n",
      "203/203 [==============================] - 0s 114us/step - loss: 0.8664 - accuracy: 0.6502\n",
      "Epoch 84/200\n",
      "203/203 [==============================] - 0s 111us/step - loss: 0.8317 - accuracy: 0.6749\n",
      "Epoch 85/200\n",
      "203/203 [==============================] - 0s 113us/step - loss: 0.9118 - accuracy: 0.6700\n",
      "Epoch 86/200\n",
      "203/203 [==============================] - 0s 112us/step - loss: 0.8318 - accuracy: 0.6847\n",
      "Epoch 87/200\n",
      "203/203 [==============================] - 0s 110us/step - loss: 0.8293 - accuracy: 0.6847\n",
      "Epoch 88/200\n",
      "203/203 [==============================] - 0s 110us/step - loss: 0.8242 - accuracy: 0.6995\n",
      "Epoch 89/200\n",
      "203/203 [==============================] - 0s 113us/step - loss: 0.8048 - accuracy: 0.7143\n",
      "Epoch 90/200\n",
      "203/203 [==============================] - 0s 114us/step - loss: 0.8334 - accuracy: 0.6601\n",
      "Epoch 91/200\n",
      "203/203 [==============================] - 0s 117us/step - loss: 0.8675 - accuracy: 0.6897\n",
      "Epoch 92/200\n",
      "203/203 [==============================] - 0s 114us/step - loss: 0.7975 - accuracy: 0.6700\n",
      "Epoch 93/200\n",
      "203/203 [==============================] - 0s 112us/step - loss: 0.8836 - accuracy: 0.6995\n",
      "Epoch 94/200\n",
      "203/203 [==============================] - 0s 114us/step - loss: 0.8110 - accuracy: 0.7192\n",
      "Epoch 95/200\n",
      "203/203 [==============================] - 0s 112us/step - loss: 0.8556 - accuracy: 0.6798\n",
      "Epoch 96/200\n",
      "203/203 [==============================] - 0s 113us/step - loss: 0.8291 - accuracy: 0.6897\n",
      "Epoch 97/200\n",
      "203/203 [==============================] - 0s 112us/step - loss: 0.8237 - accuracy: 0.7044\n",
      "Epoch 98/200\n",
      "203/203 [==============================] - 0s 111us/step - loss: 0.8559 - accuracy: 0.7044\n",
      "Epoch 99/200\n",
      "203/203 [==============================] - 0s 114us/step - loss: 0.8115 - accuracy: 0.6995\n",
      "Epoch 100/200\n",
      "203/203 [==============================] - 0s 111us/step - loss: 0.8409 - accuracy: 0.6601\n",
      "Epoch 101/200\n",
      "203/203 [==============================] - 0s 113us/step - loss: 0.8691 - accuracy: 0.6897\n",
      "Epoch 102/200\n",
      "203/203 [==============================] - 0s 112us/step - loss: 0.8267 - accuracy: 0.6749\n",
      "Epoch 103/200\n",
      "203/203 [==============================] - 0s 113us/step - loss: 0.8676 - accuracy: 0.6798\n",
      "Epoch 104/200\n",
      "203/203 [==============================] - 0s 112us/step - loss: 0.8446 - accuracy: 0.6798\n",
      "Epoch 105/200\n",
      "203/203 [==============================] - 0s 112us/step - loss: 0.8142 - accuracy: 0.7044\n",
      "Epoch 106/200\n",
      "203/203 [==============================] - 0s 113us/step - loss: 0.8362 - accuracy: 0.6749\n",
      "Epoch 107/200\n",
      "203/203 [==============================] - 0s 113us/step - loss: 0.7820 - accuracy: 0.7241\n",
      "Epoch 108/200\n",
      "203/203 [==============================] - 0s 112us/step - loss: 0.8124 - accuracy: 0.7094\n",
      "Epoch 109/200\n",
      "203/203 [==============================] - 0s 112us/step - loss: 0.8208 - accuracy: 0.6798\n",
      "Epoch 110/200\n",
      "203/203 [==============================] - 0s 117us/step - loss: 0.8607 - accuracy: 0.6552\n",
      "Epoch 111/200\n",
      "203/203 [==============================] - 0s 112us/step - loss: 0.8024 - accuracy: 0.6897\n",
      "Epoch 112/200\n",
      "203/203 [==============================] - 0s 111us/step - loss: 0.8191 - accuracy: 0.6897\n",
      "Epoch 113/200\n",
      "203/203 [==============================] - 0s 114us/step - loss: 0.7527 - accuracy: 0.7044\n",
      "Epoch 114/200\n",
      "203/203 [==============================] - 0s 112us/step - loss: 0.8175 - accuracy: 0.7044\n",
      "Epoch 115/200\n",
      "203/203 [==============================] - 0s 113us/step - loss: 0.8174 - accuracy: 0.6995\n",
      "Epoch 116/200\n",
      "203/203 [==============================] - 0s 111us/step - loss: 0.8135 - accuracy: 0.7143\n",
      "Epoch 117/200\n",
      "203/203 [==============================] - 0s 113us/step - loss: 0.8583 - accuracy: 0.6798\n",
      "Epoch 118/200\n",
      "203/203 [==============================] - 0s 114us/step - loss: 0.8195 - accuracy: 0.6946\n",
      "Epoch 119/200\n",
      "203/203 [==============================] - 0s 117us/step - loss: 0.7900 - accuracy: 0.6798\n",
      "Epoch 120/200\n",
      "203/203 [==============================] - 0s 113us/step - loss: 0.8283 - accuracy: 0.6847\n",
      "Epoch 121/200\n",
      "203/203 [==============================] - 0s 113us/step - loss: 0.8042 - accuracy: 0.6798\n",
      "Epoch 122/200\n",
      "203/203 [==============================] - 0s 112us/step - loss: 0.8167 - accuracy: 0.6897\n",
      "Epoch 123/200\n",
      "203/203 [==============================] - 0s 111us/step - loss: 0.8499 - accuracy: 0.6946\n",
      "Epoch 124/200\n",
      "203/203 [==============================] - 0s 114us/step - loss: 0.8102 - accuracy: 0.6798\n",
      "Epoch 125/200\n",
      "203/203 [==============================] - 0s 111us/step - loss: 0.8110 - accuracy: 0.6995\n",
      "Epoch 126/200\n",
      "203/203 [==============================] - 0s 114us/step - loss: 0.7700 - accuracy: 0.6749\n",
      "Epoch 127/200\n",
      "203/203 [==============================] - 0s 111us/step - loss: 0.8295 - accuracy: 0.6749\n",
      "Epoch 128/200\n",
      "203/203 [==============================] - 0s 112us/step - loss: 0.8166 - accuracy: 0.6749\n",
      "Epoch 129/200\n",
      "203/203 [==============================] - 0s 112us/step - loss: 0.8102 - accuracy: 0.6847\n",
      "Epoch 130/200\n",
      "203/203 [==============================] - 0s 114us/step - loss: 0.7961 - accuracy: 0.6749\n",
      "Epoch 131/200\n",
      "203/203 [==============================] - 0s 112us/step - loss: 0.8026 - accuracy: 0.6552\n",
      "Epoch 132/200\n",
      "203/203 [==============================] - 0s 113us/step - loss: 0.8184 - accuracy: 0.6749\n",
      "Epoch 133/200\n",
      "203/203 [==============================] - 0s 114us/step - loss: 0.7953 - accuracy: 0.6749\n",
      "Epoch 134/200\n",
      "203/203 [==============================] - 0s 111us/step - loss: 0.7615 - accuracy: 0.7143\n",
      "Epoch 135/200\n",
      "203/203 [==============================] - 0s 115us/step - loss: 0.7839 - accuracy: 0.7143\n",
      "Epoch 136/200\n",
      "203/203 [==============================] - 0s 112us/step - loss: 0.7762 - accuracy: 0.7291\n",
      "Epoch 137/200\n",
      "203/203 [==============================] - 0s 115us/step - loss: 0.7753 - accuracy: 0.6798\n",
      "Epoch 138/200\n",
      "203/203 [==============================] - 0s 113us/step - loss: 0.7492 - accuracy: 0.6995\n",
      "Epoch 139/200\n",
      "203/203 [==============================] - 0s 112us/step - loss: 0.7664 - accuracy: 0.7143\n",
      "Epoch 140/200\n",
      "203/203 [==============================] - 0s 113us/step - loss: 0.7944 - accuracy: 0.6601\n",
      "Epoch 141/200\n",
      "203/203 [==============================] - 0s 114us/step - loss: 0.7416 - accuracy: 0.7044\n",
      "Epoch 142/200\n",
      "203/203 [==============================] - 0s 114us/step - loss: 0.7669 - accuracy: 0.6847\n",
      "Epoch 143/200\n",
      "203/203 [==============================] - 0s 113us/step - loss: 0.8002 - accuracy: 0.6946\n",
      "Epoch 144/200\n",
      "203/203 [==============================] - 0s 111us/step - loss: 0.7502 - accuracy: 0.7044\n",
      "Epoch 145/200\n",
      "203/203 [==============================] - 0s 115us/step - loss: 0.8008 - accuracy: 0.6749\n",
      "Epoch 146/200\n",
      "203/203 [==============================] - 0s 118us/step - loss: 0.8125 - accuracy: 0.6847\n",
      "Epoch 147/200\n",
      "203/203 [==============================] - 0s 116us/step - loss: 0.7507 - accuracy: 0.6995\n",
      "Epoch 148/200\n",
      "203/203 [==============================] - 0s 115us/step - loss: 0.7804 - accuracy: 0.6847\n",
      "Epoch 149/200\n",
      "203/203 [==============================] - 0s 115us/step - loss: 0.7369 - accuracy: 0.6995\n",
      "Epoch 150/200\n",
      "203/203 [==============================] - 0s 114us/step - loss: 0.7685 - accuracy: 0.7192\n",
      "Epoch 151/200\n",
      "203/203 [==============================] - 0s 113us/step - loss: 0.7446 - accuracy: 0.7044\n",
      "Epoch 152/200\n",
      "203/203 [==============================] - 0s 113us/step - loss: 0.7161 - accuracy: 0.7044\n",
      "Epoch 153/200\n",
      "203/203 [==============================] - 0s 116us/step - loss: 0.7218 - accuracy: 0.7340\n",
      "Epoch 154/200\n",
      "203/203 [==============================] - 0s 115us/step - loss: 0.7413 - accuracy: 0.7192\n",
      "Epoch 155/200\n",
      "203/203 [==============================] - 0s 117us/step - loss: 0.7353 - accuracy: 0.6995\n",
      "Epoch 156/200\n",
      "203/203 [==============================] - 0s 112us/step - loss: 0.7088 - accuracy: 0.7340\n",
      "Epoch 157/200\n"
     ]
    },
    {
     "name": "stdout",
     "output_type": "stream",
     "text": [
      "203/203 [==============================] - 0s 115us/step - loss: 0.7979 - accuracy: 0.7044\n",
      "Epoch 158/200\n",
      "203/203 [==============================] - 0s 113us/step - loss: 0.7143 - accuracy: 0.6946\n",
      "Epoch 159/200\n",
      "203/203 [==============================] - 0s 115us/step - loss: 0.8075 - accuracy: 0.6601\n",
      "Epoch 160/200\n",
      "203/203 [==============================] - 0s 113us/step - loss: 0.7433 - accuracy: 0.7340\n",
      "Epoch 161/200\n",
      "203/203 [==============================] - 0s 114us/step - loss: 0.7484 - accuracy: 0.7044\n",
      "Epoch 162/200\n",
      "203/203 [==============================] - 0s 113us/step - loss: 0.7309 - accuracy: 0.7192\n",
      "Epoch 163/200\n",
      "203/203 [==============================] - 0s 114us/step - loss: 0.7924 - accuracy: 0.6847\n",
      "Epoch 164/200\n",
      "203/203 [==============================] - 0s 113us/step - loss: 0.7981 - accuracy: 0.6700\n",
      "Epoch 165/200\n",
      "203/203 [==============================] - 0s 111us/step - loss: 0.7128 - accuracy: 0.7192\n",
      "Epoch 166/200\n",
      "203/203 [==============================] - 0s 114us/step - loss: 0.6973 - accuracy: 0.7340\n",
      "Epoch 167/200\n",
      "203/203 [==============================] - 0s 114us/step - loss: 0.7597 - accuracy: 0.6601\n",
      "Epoch 168/200\n",
      "203/203 [==============================] - 0s 112us/step - loss: 0.7585 - accuracy: 0.6946\n",
      "Epoch 169/200\n",
      "203/203 [==============================] - 0s 112us/step - loss: 0.7836 - accuracy: 0.7094\n",
      "Epoch 170/200\n",
      "203/203 [==============================] - 0s 114us/step - loss: 0.7756 - accuracy: 0.6749\n",
      "Epoch 171/200\n",
      "203/203 [==============================] - 0s 112us/step - loss: 0.7329 - accuracy: 0.7340\n",
      "Epoch 172/200\n",
      "203/203 [==============================] - 0s 112us/step - loss: 0.7558 - accuracy: 0.7044\n",
      "Epoch 173/200\n",
      "203/203 [==============================] - 0s 113us/step - loss: 0.7420 - accuracy: 0.7044\n",
      "Epoch 174/200\n",
      "203/203 [==============================] - 0s 112us/step - loss: 0.7000 - accuracy: 0.7143\n",
      "Epoch 175/200\n",
      "203/203 [==============================] - 0s 113us/step - loss: 0.7442 - accuracy: 0.7241\n",
      "Epoch 176/200\n",
      "203/203 [==============================] - 0s 110us/step - loss: 0.6692 - accuracy: 0.7192\n",
      "Epoch 177/200\n",
      "203/203 [==============================] - 0s 111us/step - loss: 0.7346 - accuracy: 0.7044\n",
      "Epoch 178/200\n",
      "203/203 [==============================] - 0s 110us/step - loss: 0.7264 - accuracy: 0.6946\n",
      "Epoch 179/200\n",
      "203/203 [==============================] - 0s 112us/step - loss: 0.7253 - accuracy: 0.6995\n",
      "Epoch 180/200\n",
      "203/203 [==============================] - 0s 116us/step - loss: 0.7182 - accuracy: 0.7143\n",
      "Epoch 181/200\n",
      "203/203 [==============================] - 0s 115us/step - loss: 0.7294 - accuracy: 0.7094\n",
      "Epoch 182/200\n",
      "203/203 [==============================] - 0s 115us/step - loss: 0.7117 - accuracy: 0.7094\n",
      "Epoch 183/200\n",
      "203/203 [==============================] - 0s 113us/step - loss: 0.6588 - accuracy: 0.7291\n",
      "Epoch 184/200\n",
      "203/203 [==============================] - 0s 115us/step - loss: 0.6637 - accuracy: 0.7635\n",
      "Epoch 185/200\n",
      "203/203 [==============================] - 0s 111us/step - loss: 0.6985 - accuracy: 0.7192\n",
      "Epoch 186/200\n",
      "203/203 [==============================] - 0s 114us/step - loss: 0.7648 - accuracy: 0.7044\n",
      "Epoch 187/200\n",
      "203/203 [==============================] - 0s 112us/step - loss: 0.6582 - accuracy: 0.7044\n",
      "Epoch 188/200\n",
      "203/203 [==============================] - 0s 113us/step - loss: 0.7612 - accuracy: 0.7143\n",
      "Epoch 189/200\n",
      "203/203 [==============================] - 0s 113us/step - loss: 0.6568 - accuracy: 0.7586\n",
      "Epoch 190/200\n",
      "203/203 [==============================] - 0s 111us/step - loss: 0.7074 - accuracy: 0.7291\n",
      "Epoch 191/200\n",
      "203/203 [==============================] - 0s 114us/step - loss: 0.6576 - accuracy: 0.7340\n",
      "Epoch 192/200\n",
      "203/203 [==============================] - 0s 112us/step - loss: 0.7067 - accuracy: 0.7192\n",
      "Epoch 193/200\n",
      "203/203 [==============================] - 0s 112us/step - loss: 0.7376 - accuracy: 0.7192\n",
      "Epoch 194/200\n",
      "203/203 [==============================] - 0s 112us/step - loss: 0.7040 - accuracy: 0.7291\n",
      "Epoch 195/200\n",
      "203/203 [==============================] - 0s 113us/step - loss: 0.6893 - accuracy: 0.7192\n",
      "Epoch 196/200\n",
      "203/203 [==============================] - 0s 112us/step - loss: 0.7491 - accuracy: 0.7143\n",
      "Epoch 197/200\n",
      "203/203 [==============================] - 0s 112us/step - loss: 0.7704 - accuracy: 0.7044\n",
      "Epoch 198/200\n",
      "203/203 [==============================] - 0s 114us/step - loss: 0.6844 - accuracy: 0.7094\n",
      "Epoch 199/200\n",
      "203/203 [==============================] - 0s 112us/step - loss: 0.6258 - accuracy: 0.7635\n",
      "Epoch 200/200\n",
      "203/203 [==============================] - 0s 114us/step - loss: 0.7211 - accuracy: 0.6650\n"
     ]
    }
   ],
   "source": [
    "history = model.fit(x_train, y_train, epochs=300)"
   ]
  },
  {
   "cell_type": "markdown",
   "metadata": {},
   "source": [
    "## Validation"
   ]
  },
  {
   "cell_type": "code",
   "execution_count": 55,
   "metadata": {},
   "outputs": [
    {
     "name": "stdout",
     "output_type": "stream",
     "text": [
      "\r",
      "11/11 [==============================] - 0s 204us/step\n"
     ]
    },
    {
     "data": {
      "text/plain": [
       "[1.5636924505233765, 0.5454545617103577]"
      ]
     },
     "execution_count": 55,
     "metadata": {},
     "output_type": "execute_result"
    }
   ],
   "source": [
    "model.evaluate(x_test[:8,:],y_test[:8,:])"
   ]
  },
  {
   "cell_type": "code",
   "execution_count": 57,
   "metadata": {},
   "outputs": [],
   "source": [
    "preds = model.predict(x_test)\n",
    "'''\n",
    "for i in range(preds.shape[0]):\n",
    "    for j in range(preds.shape[1]):\n",
    "        preds[i,j] = round(preds[i,j],2)\n",
    "'''\n",
    "preds = np.round(preds, 2)"
   ]
  },
  {
   "cell_type": "code",
   "execution_count": 58,
   "metadata": {},
   "outputs": [
    {
     "name": "stdout",
     "output_type": "stream",
     "text": [
      "break point:  0 145.96 3451.46 6756.95 10062.45\n"
     ]
    }
   ],
   "source": [
    "print('break point: ', 0,round(mu - sigma,2), round(mu,2), round(mu+sigma,2), round(mu+2*sigma,2))"
   ]
  },
  {
   "cell_type": "code",
   "execution_count": 59,
   "metadata": {},
   "outputs": [
    {
     "name": "stdout",
     "output_type": "stream",
     "text": [
      "[[0.   0.9  0.09 0.01 0.  ]\n",
      " [0.05 0.94 0.01 0.   0.  ]\n",
      " [0.01 0.98 0.   0.   0.  ]\n",
      " [0.01 0.86 0.12 0.   0.  ]\n",
      " [0.   0.29 0.13 0.55 0.03]\n",
      " [0.04 0.76 0.2  0.   0.  ]\n",
      " [0.   0.92 0.07 0.   0.  ]\n",
      " [0.01 0.66 0.04 0.27 0.03]\n",
      " [0.06 0.63 0.3  0.01 0.  ]\n",
      " [0.   0.03 0.22 0.63 0.12]\n",
      " [0.02 0.89 0.09 0.01 0.  ]]\n"
     ]
    }
   ],
   "source": [
    "print(preds) # Probability distribution"
   ]
  },
  {
   "cell_type": "code",
   "execution_count": 60,
   "metadata": {},
   "outputs": [
    {
     "data": {
      "text/plain": [
       "array([1, 1, 1, 1, 3, 1, 1, 1, 1, 3, 1])"
      ]
     },
     "execution_count": 60,
     "metadata": {},
     "output_type": "execute_result"
    }
   ],
   "source": [
    "preds = model.predict(x_test)\n",
    "preds = np.argmax(preds, axis=1)\n",
    "preds # categorical output"
   ]
  },
  {
   "cell_type": "code",
   "execution_count": 61,
   "metadata": {},
   "outputs": [
    {
     "data": {
      "text/plain": [
       "array([2, 0, 2, 2, 3, 1, 1, 1, 1, 4, 1])"
      ]
     },
     "execution_count": 61,
     "metadata": {},
     "output_type": "execute_result"
    }
   ],
   "source": [
    "y_test = np.argmax(y_test, axis=1)\n",
    "y_test # true category"
   ]
  },
  {
   "cell_type": "code",
   "execution_count": 76,
   "metadata": {},
   "outputs": [
    {
     "data": {
      "text/plain": [
       "array([ 6609.6 ,   116.64,  4633.2 ,  3499.2 ,  7795.44,  1581.12,\n",
       "         952.56,  3402.  ,   220.32, 13186.8 ,   758.16])"
      ]
     },
     "execution_count": 76,
     "metadata": {},
     "output_type": "execute_result"
    }
   ],
   "source": [
    "data_test[:,-1] # true volume"
   ]
  },
  {
   "cell_type": "code",
   "execution_count": 85,
   "metadata": {},
   "outputs": [],
   "source": [
    "from sklearn.metrics import accuracy_score, classification_report"
   ]
  },
  {
   "cell_type": "code",
   "execution_count": 88,
   "metadata": {},
   "outputs": [
    {
     "name": "stdout",
     "output_type": "stream",
     "text": [
      "              precision    recall  f1-score   support\n",
      "\n",
      "           0       0.00      0.00      0.00         1\n",
      "           1       0.57      0.80      0.67         5\n",
      "           2       1.00      0.33      0.50         3\n",
      "           3       0.33      1.00      0.50         1\n",
      "           4       0.00      0.00      0.00         1\n",
      "\n",
      "    accuracy                           0.55        11\n",
      "   macro avg       0.38      0.43      0.33        11\n",
      "weighted avg       0.56      0.55      0.48        11\n",
      "\n"
     ]
    }
   ],
   "source": [
    "print(classification_report(y_test, preds))"
   ]
  },
  {
   "cell_type": "code",
   "execution_count": null,
   "metadata": {},
   "outputs": [],
   "source": []
  }
 ],
 "metadata": {
  "kernelspec": {
   "display_name": "Python 3",
   "language": "python",
   "name": "python3"
  },
  "language_info": {
   "codemirror_mode": {
    "name": "ipython",
    "version": 3
   },
   "file_extension": ".py",
   "mimetype": "text/x-python",
   "name": "python",
   "nbconvert_exporter": "python",
   "pygments_lexer": "ipython3",
   "version": "3.7.4"
  }
 },
 "nbformat": 4,
 "nbformat_minor": 2
}
